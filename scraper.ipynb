{
 "cells": [
  {
   "cell_type": "code",
   "execution_count": 1,
   "metadata": {},
   "outputs": [],
   "source": [
    "# For webscraping, import the following libraries from selenium\n",
    "from selenium import webdriver\n",
    "from selenium.webdriver.common.keys import Keys\n",
    "from selenium.webdriver.common.by import By\n",
    "import pandas as pd\n",
    "\n",
    "# PATHS\n",
    "CERES_URL = 'https://tools.ceres.org/resources/tools/sec-sustainability-disclosure/'\n",
    "\n",
    "# import the driver \n",
    "driver = webdriver.Chrome()\n",
    "\n",
    "# access the site \n",
    "driver.get(CERES_URL)"
   ]
  },
  {
   "cell_type": "code",
   "execution_count": 9,
   "metadata": {},
   "outputs": [
    {
     "name": "stdout",
     "output_type": "stream",
     "text": [
      "https://tools.ceres.org/resources/tools/sec-sustainability-disclosure/\n"
     ]
    }
   ],
   "source": [
    "# play around\n",
    "print(driver.te)"
   ]
  },
  {
   "cell_type": "code",
   "execution_count": 19,
   "metadata": {},
   "outputs": [],
   "source": [
    "# find table element\n",
    "resForm = driver.find_element(By.ID, 'resForm')"
   ]
  },
  {
   "cell_type": "code",
   "execution_count": 16,
   "metadata": {},
   "outputs": [
    {
     "name": "stdout",
     "output_type": "stream",
     "text": [
      "Watch List Company Name Ticker Industry Group Financial Year End Issue Stock Index Report\n"
     ]
    }
   ],
   "source": [
    "table = driver.find_elements(By.TAG_NAME, \"thead\")\n",
    "\n",
    "for row in table:\n",
    "    print(row.text)"
   ]
  }
 ],
 "metadata": {
  "kernelspec": {
   "display_name": "topCare",
   "language": "python",
   "name": "python3"
  },
  "language_info": {
   "codemirror_mode": {
    "name": "ipython",
    "version": 3
   },
   "file_extension": ".py",
   "mimetype": "text/x-python",
   "name": "python",
   "nbconvert_exporter": "python",
   "pygments_lexer": "ipython3",
   "version": "3.11.9"
  }
 },
 "nbformat": 4,
 "nbformat_minor": 2
}
